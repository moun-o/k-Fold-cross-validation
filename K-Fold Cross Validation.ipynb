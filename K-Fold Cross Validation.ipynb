{
 "cells": [
  {
   "cell_type": "code",
   "execution_count": 1,
   "metadata": {},
   "outputs": [],
   "source": [
    "import pandas as pd\n",
    "import numpy as np\n",
    "pd.options.mode.chained_assignment=None"
   ]
  },
  {
   "cell_type": "code",
   "execution_count": 2,
   "metadata": {},
   "outputs": [],
   "source": [
    "drop_cols=['room_type','city','zipcode','state','longitude','latitude','host_response_rate','host_acceptance_rate','host_response_rate','host_listings_count']\n",
    "\n",
    "#read data\n",
    "airbnb_list=pd.read_csv('paris_airbnb.csv')\n",
    "\n",
    "#clean the column price, remove , and $\n",
    "airbnb_list['price']=airbnb_list['price'].astype(str).str.replace('$','')\n",
    "airbnb_list['price']=airbnb_list['price'].astype(str).str.replace(',','')\n",
    "\n",
    "#convert price column to float\n",
    "airbnb_list['price']=airbnb_list['price'].astype('float')\n",
    "\n",
    "#delete the non float and non interesting colomuns\n",
    "airbnb_list=airbnb_list.drop(drop_cols,axis=1)\n",
    "\n",
    "#drop null rows\n",
    "airbnb_list=airbnb_list.dropna(axis=0)\n"
   ]
  },
  {
   "cell_type": "code",
   "execution_count": 3,
   "metadata": {},
   "outputs": [],
   "source": [
    "#import cross validation tools\n",
    "from sklearn.model_selection import KFold, cross_val_score\n",
    "\n",
    "#import the KNN estimator\n",
    "from sklearn.neighbors import KNeighborsRegressor\n"
   ]
  },
  {
   "cell_type": "code",
   "execution_count": 4,
   "metadata": {},
   "outputs": [],
   "source": [
    "#init features for training\n",
    "features=airbnb_list[['accommodates','bedrooms','beds']]\n",
    "\n",
    "#init the target feature\n",
    "target=airbnb_list[['price']]"
   ]
  },
  {
   "cell_type": "code",
   "execution_count": 5,
   "metadata": {},
   "outputs": [
    {
     "name": "stdout",
     "output_type": "stream",
     "text": [
      "k=  3 error is : 86.11761407469618\n",
      "k=  5 error is : 85.85200477330143\n",
      "k=  7 error is : 87.04996177129394\n",
      "k=  9 error is : 87.06717802478637\n",
      "k=  11 error is : 86.21965359756574\n",
      "k=  13 error is : 86.87663230395394\n",
      "k=  15 error is : 85.53497419590316\n",
      "k=  17 error is : 86.50221527928603\n",
      "k=  19 error is : 84.82264926545778\n",
      "k=  21 error is : 85.70504258898393\n",
      "k=  23 error is : 84.67510758581669\n",
      "k=  25 error is : 84.85885623631079\n",
      "k=  27 error is : 86.33373216959635\n",
      "k=  29 error is : 84.41542990408729\n"
     ]
    }
   ],
   "source": [
    "k_max=30\n",
    "for k in range(3,k_max,2):\n",
    "    #init the kfold , 5 is the number of batchs, shuffle = true if you want to shuffle the data before split\n",
    "    kf=KFold(k,shuffle=True, random_state=1)\n",
    "\n",
    "    #init the KNN\n",
    "    knn=KNeighborsRegressor()\n",
    "\n",
    "    #Evaluate tge MSE on cross validation train, \n",
    "    errorMSE=cross_val_score(knn,features,target,scoring='neg_mean_squared_error',cv=kf)\n",
    "\n",
    "    #get the RMSE\n",
    "    errorRMSE=np.sqrt(np.absolute(errorMSE))\n",
    "\n",
    "    #print the cross validation results\n",
    "    print(\"k= \",k, \"error is :\" ,np.mean(errorRMSE))"
   ]
  }
 ],
 "metadata": {
  "kernelspec": {
   "display_name": "Python 3",
   "language": "python",
   "name": "python3"
  },
  "language_info": {
   "codemirror_mode": {
    "name": "ipython",
    "version": 3
   },
   "file_extension": ".py",
   "mimetype": "text/x-python",
   "name": "python",
   "nbconvert_exporter": "python",
   "pygments_lexer": "ipython3",
   "version": "3.7.3"
  }
 },
 "nbformat": 4,
 "nbformat_minor": 2
}
